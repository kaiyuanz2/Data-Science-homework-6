{
 "cells": [
  {
   "cell_type": "markdown",
   "metadata": {},
   "source": [
    "# Learning a 3-Layer Neural Network (NN)\n",
    "\n",
    "This ipynb file contains the Programming for HW6.\n",
    "\n",
    "Your task is to implement a multi-class classification model using Neural Networks to recognize handwritten numbers (0-9). You are asked to not only complete the Forward Propagation and the cost function, but also implement the Backpropagation algorithm to complete the 3-layer neural network (NN) model.\n",
    "\n",
    "The NN has 3 layers:\n",
    "- L1: 401 = 400 (20x20) features + 1 bias\n",
    "- L2: 25 + 1 bias\n",
    "- L3: 10 classification labels"
   ]
  },
  {
   "cell_type": "code",
   "execution_count": 2,
   "metadata": {},
   "outputs": [],
   "source": [
    "import numpy as np\n",
    "import pandas as pd\n",
    "import matplotlib.pyplot as plt\n",
    "%matplotlib inline"
   ]
  },
  {
   "cell_type": "markdown",
   "metadata": {},
   "source": [
    "## Load Data"
   ]
  },
  {
   "cell_type": "code",
   "execution_count": 3,
   "metadata": {},
   "outputs": [
    {
     "data": {
      "text/plain": [
       "((5000, 400), (5000, 1))"
      ]
     },
     "execution_count": 3,
     "metadata": {},
     "output_type": "execute_result"
    }
   ],
   "source": [
    "# Load the data (in .mat format)\n",
    "from scipy.io import loadmat\n",
    "data = loadmat('hw6_data.mat')\n",
    "\n",
    "X = data['X']\n",
    "y = data['y']\n",
    "X.shape, y.shape"
   ]
  },
  {
   "cell_type": "markdown",
   "metadata": {},
   "source": [
    "## Visualize data\n",
    "\n",
    "Load some functions to visualize a 10x10 matrix of handwritten numbers."
   ]
  },
  {
   "cell_type": "code",
   "execution_count": 29,
   "metadata": {},
   "outputs": [],
   "source": [
    "import scipy.misc # Used to show matrix as an image\n",
    "import random  # To pick random images to display\n",
    "import matplotlib.cm as cm # Used to display images in a specific colormap\n",
    "\n",
    "def getDatumImg(row):\n",
    "    # Function that is handed a single np array with shape 1x400, creates an image object from it, and returns it\n",
    "    width, height = 20, 20\n",
    "    square = row[0:].reshape(width,height)\n",
    "    return square.T\n",
    "\n",
    "def displayData(indices_to_display = None):\n",
    "    # Function that picks 100 random rows from X, creates a 20x20 image from each, \n",
    "    # then stitches them together into a 10x10 grid of images, and shows it\n",
    "    width, height = 20, 20\n",
    "    nrows, ncols = 10, 10\n",
    "    if not indices_to_display:\n",
    "        indices_to_display = random.sample(range(X.shape[0]), nrows*ncols)\n",
    "        \n",
    "    big_picture = np.zeros((height*nrows,width*ncols))\n",
    "    \n",
    "    irow, icol = 0, 0\n",
    "    for idx in indices_to_display:\n",
    "        if icol == ncols:\n",
    "            irow += 1\n",
    "            icol  = 0\n",
    "        iimg = getDatumImg(X[idx])\n",
    "        big_picture[irow*height:irow*height+iimg.shape[0],icol*width:icol*width+iimg.shape[1]] = iimg\n",
    "        icol += 1\n",
    "    fig = plt.figure(figsize=(6,6))\n",
    "    img = scipy.misc.toimage(big_picture)\n",
    "    plt.imshow(img,cmap = cm.Greys_r)"
   ]
  },
  {
   "cell_type": "code",
   "execution_count": 56,
   "metadata": {
    "scrolled": true
   },
   "outputs": [
    {
     "ename": "AttributeError",
     "evalue": "module 'scipy.misc' has no attribute 'toimage'",
     "output_type": "error",
     "traceback": [
      "\u001b[1;31m---------------------------------------------------------------------------\u001b[0m",
      "\u001b[1;31mAttributeError\u001b[0m                            Traceback (most recent call last)",
      "\u001b[1;32m<ipython-input-56-8af79551f98d>\u001b[0m in \u001b[0;36m<module>\u001b[1;34m()\u001b[0m\n\u001b[0;32m      1\u001b[0m \u001b[1;31m# print a random sample of numbers\u001b[0m\u001b[1;33m\u001b[0m\u001b[1;33m\u001b[0m\u001b[0m\n\u001b[1;32m----> 2\u001b[1;33m \u001b[0mdisplayData\u001b[0m\u001b[1;33m(\u001b[0m\u001b[1;33m)\u001b[0m\u001b[1;33m\u001b[0m\u001b[0m\n\u001b[0m",
      "\u001b[1;32m<ipython-input-29-7af4e8b5a246>\u001b[0m in \u001b[0;36mdisplayData\u001b[1;34m(indices_to_display)\u001b[0m\n\u001b[0;32m     28\u001b[0m         \u001b[0micol\u001b[0m \u001b[1;33m+=\u001b[0m \u001b[1;36m1\u001b[0m\u001b[1;33m\u001b[0m\u001b[0m\n\u001b[0;32m     29\u001b[0m     \u001b[0mfig\u001b[0m \u001b[1;33m=\u001b[0m \u001b[0mplt\u001b[0m\u001b[1;33m.\u001b[0m\u001b[0mfigure\u001b[0m\u001b[1;33m(\u001b[0m\u001b[0mfigsize\u001b[0m\u001b[1;33m=\u001b[0m\u001b[1;33m(\u001b[0m\u001b[1;36m6\u001b[0m\u001b[1;33m,\u001b[0m\u001b[1;36m6\u001b[0m\u001b[1;33m)\u001b[0m\u001b[1;33m)\u001b[0m\u001b[1;33m\u001b[0m\u001b[0m\n\u001b[1;32m---> 30\u001b[1;33m     \u001b[0mimg\u001b[0m \u001b[1;33m=\u001b[0m \u001b[0mscipy\u001b[0m\u001b[1;33m.\u001b[0m\u001b[0mmisc\u001b[0m\u001b[1;33m.\u001b[0m\u001b[0mtoimage\u001b[0m\u001b[1;33m(\u001b[0m\u001b[0mbig_picture\u001b[0m\u001b[1;33m)\u001b[0m\u001b[1;33m\u001b[0m\u001b[0m\n\u001b[0m\u001b[0;32m     31\u001b[0m     \u001b[0mplt\u001b[0m\u001b[1;33m.\u001b[0m\u001b[0mimshow\u001b[0m\u001b[1;33m(\u001b[0m\u001b[0mimg\u001b[0m\u001b[1;33m,\u001b[0m\u001b[0mcmap\u001b[0m \u001b[1;33m=\u001b[0m \u001b[0mcm\u001b[0m\u001b[1;33m.\u001b[0m\u001b[0mGreys_r\u001b[0m\u001b[1;33m)\u001b[0m\u001b[1;33m\u001b[0m\u001b[0m\n",
      "\u001b[1;31mAttributeError\u001b[0m: module 'scipy.misc' has no attribute 'toimage'"
     ]
    },
    {
     "data": {
      "text/plain": [
       "<Figure size 432x432 with 0 Axes>"
      ]
     },
     "metadata": {},
     "output_type": "display_data"
    }
   ],
   "source": [
    "# print a random sample of numbers\n",
    "displayData()"
   ]
  },
  {
   "cell_type": "markdown",
   "metadata": {},
   "source": [
    "## One-hot encoding of 'y'\n",
    "\n",
    "We need to one-hot encode our y labeles. Rights now y is a [5000x1] array where each element contains a number in the range (1...10) that represents the handwritten number of the corresponding training sample (note the '10' represents the '0').\n",
    "\n",
    "With a one-hot encoding we transform each element of y into an array with 10 elements where each one is a binary representation of each label. This way, a sample labeled as '3' will have the 3rd bit hot ('1') and the rest 'cold' (0)."
   ]
  },
  {
   "cell_type": "code",
   "execution_count": 11,
   "metadata": {},
   "outputs": [
    {
     "data": {
      "text/plain": [
       "(5000, 10)"
      ]
     },
     "execution_count": 11,
     "metadata": {},
     "output_type": "execute_result"
    }
   ],
   "source": [
    "from sklearn.preprocessing import OneHotEncoder\n",
    "encoder = OneHotEncoder(sparse=False)\n",
    "y_onehot = encoder.fit_transform(y)\n",
    "y_onehot.shape"
   ]
  },
  {
   "cell_type": "code",
   "execution_count": 12,
   "metadata": {
    "scrolled": true
   },
   "outputs": [
    {
     "data": {
      "text/plain": [
       "(array([6], dtype=uint8),\n",
       " array([ 0.,  0.,  0.,  0.,  0.,  1.,  0.,  0.,  0.,  0.]))"
      ]
     },
     "execution_count": 12,
     "metadata": {},
     "output_type": "execute_result"
    }
   ],
   "source": [
    "y[3245], y_onehot[3245]"
   ]
  },
  {
   "cell_type": "markdown",
   "metadata": {},
   "source": [
    "## Cost Computation (Forward propagation)\n",
    "\n",
    "Let's first implement the functions that are required to implement the cost.\n",
    "\n",
    "The cost function evaluates how a given set of parameters theta represents a good model. To compute the cost we inject the input features X to the network and apply the Forward Propagation algorithm to obtain the predicted classifications (h). The cost function summarizes the differences between the predicted and the real classifications."
   ]
  },
  {
   "cell_type": "code",
   "execution_count": 31,
   "metadata": {},
   "outputs": [],
   "source": [
    "# sigmoid function definition\n",
    "def sigmoid(z):\n",
    "    return 1 / (1 + np.exp(-z))"
   ]
  },
  {
   "cell_type": "code",
   "execution_count": 32,
   "metadata": {},
   "outputs": [],
   "source": [
    "# Function that receives as input:\n",
    "#   - X[ num_samples x num_features ]\n",
    "#   - theta1[ num_L2_units_no_bias x (num_features+1) ]\n",
    "#   - theta2[ num_output_labels x num_L2_units_with_bias ]\n",
    "# and returns:\n",
    "#   - all the forward propagation steps\n",
    "#     - a1 [ num_samples x (num_features+1) ]\n",
    "#     - z2 [ num_samples x num_L2_units_no_bias ]\n",
    "#     - a2 [ num_samples x num_L2_units_with_bias ]\n",
    "#     - z3 [ num_samples x num_output_labels ]\n",
    "#     - h  [ num_samples x num_output_labels ]\n",
    "\n",
    "def forward_propagate(X, theta1, theta2):\n",
    "    \n",
    "    # Your code here for Problem 1.3\n",
    "    a1 = np.insert(X, 0, values = np.ones(X.shape[0]), axis = 1) # add the bias term to a1 \n",
    "    z2 = np.dot(a1, theta1.T) # a1 x theta1 \n",
    "    a2 = sigmoid(z2) # sigmoid function \n",
    "    a2 = np.insert(a2, 0, values = np.ones(a2.shape[0]), axis = 1) # add the bias term to a2\n",
    "    z3 = np.dot(a2, theta2.T) # a2 x theta2\n",
    "    h = sigmoid(z3) # sigmoid function \n",
    "    \n",
    "    return a1, z2, a2, z3, h"
   ]
  },
  {
   "cell_type": "code",
   "execution_count": 33,
   "metadata": {},
   "outputs": [],
   "source": [
    "# Function that receives as input:\n",
    "#   - y[ num_samples x num_labels ] (one-hot encoded)\n",
    "#   - h[ num_samples x num_labels ]\n",
    "#   - theta1[ num_L2_units_no_bias x (num_features+1) ]\n",
    "#   - theta2[ num_output_labels_ x num_L2_units_with_bias ]\n",
    "#   - learning_rate (scalar for the regularization term)\n",
    "# and returns: \n",
    "#   - the computed regularized cost J\n",
    "def cost(y, h, theta1, theta2, learning_rate):\n",
    "    \n",
    "    # Your code here for Problem 1.3\n",
    "    m = len(y)\n",
    "    origin_cost = np.sum((np.multiply(y, np.log(h)) + np.multiply(1-y, np.log(1-h)))) / (-m)\n",
    "    penalty = np.sum(np.power(theta1, 2)) + np.sum(np.power(theta2, 2))\n",
    "    J = origin_cost + (learning_rate / (2 * m)) * penalty\n",
    "\n",
    "    return J"
   ]
  },
  {
   "cell_type": "code",
   "execution_count": 34,
   "metadata": {},
   "outputs": [],
   "source": [
    "# Function that receives as input:\n",
    "#   - X[ num_samples x num_features ]\n",
    "#   - y[ num_samples x num_labels ] (one-hot encoded)\n",
    "#   - theta1[ num_L2_units_no_bias x (num_features+1) ]\n",
    "#   - theta2[ num_output_labels_ x num_L2_units_with_bias ]\n",
    "#   - learning_rate (scalar for the regularization term)\n",
    "# and returns: \n",
    "#   - the computed regularized cost J\n",
    "#   - all the forward propagation steps (a1, z2, a2, z3, h)\n",
    "def forward_and_cost(X, y, theta1, theta2, learning_rate):\n",
    "    \n",
    "    m = X.shape[0]\n",
    "    \n",
    "    # convert to matrices to use notation of algebra operations\n",
    "    X = np.matrix(X)\n",
    "    y = np.matrix(y)\n",
    "    theta1 = np.matrix(theta1)\n",
    "    theta2 = np.matrix(theta2)\n",
    "    \n",
    "    # run the (vectorized) forward propagation\n",
    "    #     - a1 [ num_samples x (num_features+1) ]\n",
    "    #     - z2 [ num_samples x num_L2_units_no_bias ]\n",
    "    #     - a2 [ num_samples x num_L2_units_with_bias ]\n",
    "    #     - z3 [ num_samples x num_output_labels ]\n",
    "    #     - h  [ num_samples x num_output_labels ]\n",
    "    a1, z2, a2, z3, h = forward_propagate(X, theta1, theta2)\n",
    "    \n",
    "    # compute the cost given comparing y and h\n",
    "    J = cost(y, h, theta1, theta2, learning_rate)\n",
    "    \n",
    "    return J, a1, z2, a2, z3, h"
   ]
  },
  {
   "cell_type": "markdown",
   "metadata": {},
   "source": [
    "### Test the cost calculation: random theta\n",
    "\n",
    "Let's quickly test this cost function calculation with a set of random theta parameters.\n",
    "\n",
    "We will initialize the theta parameters to a random value in the range [-e, +e] (with epsilon e = 0.12). This range of values ensures that the parameters are kept small and makes the learning more efficient. In out code we will use [-0.12, +0.12] for all theta."
   ]
  },
  {
   "cell_type": "code",
   "execution_count": 35,
   "metadata": {},
   "outputs": [
    {
     "data": {
      "text/plain": [
       "((25, 401), (10, 26))"
      ]
     },
     "execution_count": 35,
     "metadata": {},
     "output_type": "execute_result"
    }
   ],
   "source": [
    "# randomly initialize a the theta parameters arrays\n",
    "#   - theta1[ num_L2_units_no_bias x (num_features+1) ]\n",
    "#   - theta2[ num_output_labels x num_L2_units_with_bias ]\n",
    "theta1_temp = (np.random.random(size=25*(400+1)) - 0.5) * 0.24\n",
    "theta1      = np.reshape(theta1_temp[:25*(400+1)],(25,(400+1)))\n",
    "theta2_temp = (np.random.random(size=10*(25+1)) - 0.5) * 0.24\n",
    "theta2      = np.reshape(theta2_temp[:10*(25+1)],(10,(25+1)))\n",
    "theta1.shape, theta2.shape"
   ]
  },
  {
   "cell_type": "code",
   "execution_count": 36,
   "metadata": {},
   "outputs": [
    {
     "data": {
      "text/plain": [
       "6.8736989838278362"
      ]
     },
     "execution_count": 36,
     "metadata": {},
     "output_type": "execute_result"
    }
   ],
   "source": [
    "# Now let's compute the cost (without regularization)\n",
    "J, a1, z2, a2, z3, h = forward_and_cost(X, y_onehot, theta1, theta2, 0)\n",
    "J"
   ]
  },
  {
   "cell_type": "code",
   "execution_count": 37,
   "metadata": {
    "scrolled": true
   },
   "outputs": [
    {
     "data": {
      "text/plain": [
       "6.8787182495246508"
      ]
     },
     "execution_count": 37,
     "metadata": {},
     "output_type": "execute_result"
    }
   ],
   "source": [
    "# Now let's compute the cost (with regularization)\n",
    "J, a1, z2, a2, z3, h = forward_and_cost(X, y_onehot, theta1, theta2, 1)\n",
    "J"
   ]
  },
  {
   "cell_type": "markdown",
   "metadata": {},
   "source": [
    "Well, at least it didn't crash, and the cost is always around 6-7."
   ]
  },
  {
   "cell_type": "markdown",
   "metadata": {},
   "source": [
    "### Test the cost calculation: precomputed theta\n",
    "\n",
    "Let's quickly test this cost function calculation with the set of precomputed (default) theta parameters."
   ]
  },
  {
   "cell_type": "code",
   "execution_count": 39,
   "metadata": {},
   "outputs": [],
   "source": [
    "from scipy.io import loadmat\n",
    "thetas = loadmat('hw6_weights.mat')\n",
    "theta1, theta2 = thetas['Theta1'], thetas['Theta2']"
   ]
  },
  {
   "cell_type": "code",
   "execution_count": 40,
   "metadata": {},
   "outputs": [
    {
     "data": {
      "text/plain": [
       "0.28762916516131892"
      ]
     },
     "execution_count": 40,
     "metadata": {},
     "output_type": "execute_result"
    }
   ],
   "source": [
    "# Now let's compute the cost (without regularization)\n",
    "J, a1, z2, a2, z3, h = forward_and_cost(X, y_onehot, theta1, theta2, 0)\n",
    "J"
   ]
  },
  {
   "cell_type": "code",
   "execution_count": 41,
   "metadata": {},
   "outputs": [
    {
     "data": {
      "text/plain": [
       "0.38448779624289398"
      ]
     },
     "execution_count": 41,
     "metadata": {},
     "output_type": "execute_result"
    }
   ],
   "source": [
    "# Now let's compute the cost (with regularization)\n",
    "J, a1, z2, a2, z3, h = forward_and_cost(X, y_onehot, theta1, theta2, 1)\n",
    "J"
   ]
  },
  {
   "cell_type": "markdown",
   "metadata": {},
   "source": [
    "This looks better. Much lower cost compared to random initialization of thetas"
   ]
  },
  {
   "cell_type": "markdown",
   "metadata": {
    "collapsed": true
   },
   "source": [
    "## Gradient Computation (BackPropagation)\n",
    "\n",
    "In order to train the NN, we need to minimize J. To do that we need J (we have it!) and its gradient (about to have it!).\n",
    "\n",
    "Now let's implement the code that computes the gradient of J that we need to train the NN. This gradient will be fed to a minimization function from a third party library.\n",
    "\n",
    "We use the backpropagation algorithm to compute the gradient of J."
   ]
  },
  {
   "cell_type": "code",
   "execution_count": 42,
   "metadata": {},
   "outputs": [],
   "source": [
    "# function that returns the sigmoid gradient => g(1-g)\n",
    "def sigmoid_gradient(z):\n",
    "    return np.multiply(sigmoid(z), (1 - sigmoid(z)))"
   ]
  },
  {
   "cell_type": "code",
   "execution_count": 43,
   "metadata": {},
   "outputs": [
    {
     "data": {
      "text/plain": [
       "((25, 401), (10, 26))"
      ]
     },
     "execution_count": 43,
     "metadata": {},
     "output_type": "execute_result"
    }
   ],
   "source": [
    "# randomly initialize a the theta parameters arrays\n",
    "#   - theta1[ num_L2_units_no_bias x (num_features+1) ]\n",
    "#   - theta2[ num_output_labels x num_L2_units_with_bias ]\n",
    "theta1_temp = (np.random.random(size=25*(400+1)) - 0.5) * 0.24\n",
    "theta1      = np.reshape(theta1_temp[:25*(400+1)],(25,(400+1)))\n",
    "theta2_temp = (np.random.random(size=10*(25+1)) - 0.5) * 0.24\n",
    "theta2      = np.reshape(theta2_temp[:10*(25+1)],(10,(25+1)))\n",
    "theta1.shape, theta2.shape"
   ]
  },
  {
   "cell_type": "code",
   "execution_count": 44,
   "metadata": {},
   "outputs": [],
   "source": [
    "# Function that receives as input:\n",
    "#   - theta2 [ num_output_labels x num_L2_units_with_bias ]\n",
    "#   - a1 [ num_samples x (num_features+1) ]\n",
    "#   - z2 [ num_samples x num_L2_units_no_bias ]\n",
    "#   - a2 [ num_samples x num_L2_units_with_bias ]\n",
    "#   - h  [ num_samples x num_output_labels ]\n",
    "#   - y  [ num_samples x num_output_labels ]\n",
    "def gradient(theta2, a1, z2, a2, h, y, learning_rate):\n",
    "    \n",
    "    # initialize variables\n",
    "    m = a1.shape[0]\n",
    "    delta1 = np.zeros(theta1.shape)  # [ num_L2_units_no_bias x (num_features+1) ]\n",
    "    delta2 = np.zeros(theta2.shape)  # [ num_output_labels x num_L2_units_with_bias ]\n",
    "    \n",
    "    # loop all training samples\n",
    "    for s in range(m):\n",
    "        \n",
    "        # get intermediate values for the given sample 's'\n",
    "        a1s = a1[s,:]  # [ 1 x (num_features+1) ]\n",
    "        z2s = z2[s,:]  # [ 1 x num_L2_units_no_bias ]\n",
    "        a2s = a2[s,:]  # [ 1 x num_L2_units_with_bias ]\n",
    "        hs = h[s,:]    # [ 1 x num_output_labels ]\n",
    "        ys = y[s,:]    # [ 1 x num_output_labels ]\n",
    "        \n",
    "        # compute error at output layer (layer 3)\n",
    "        d3s = hs - ys  # [ 1 x num_output_labels ]\n",
    "        \n",
    "        # compute error at layer 2\n",
    "        z2s = np.insert(z2s, 0, values=np.ones(1))  # insert bias unit => [ 1 x num_L2_units_with_bias ]\n",
    "        d2s = np.multiply((theta2.T * d3s.T).T, sigmoid_gradient(z2s))  #  [ 1 x num_L2_units_with_bias ]\n",
    "        d2s = d2s[:,1:] # discard d2s[0] => [ 1 x num_L2_units_with_no_bias ]\n",
    "        \n",
    "        # accumulate errors into delta matrices\n",
    "        delta1 = delta1 + d2s.T * a1s \n",
    "        delta2 = delta2 + d3s.T * a2s\n",
    "        \n",
    "    delta1 = delta1 / m\n",
    "    delta2 = delta2 / m\n",
    "    \n",
    "    # add the gradient regularization term (note we do not sum the theta for the bias units)\n",
    "    delta1[:,1:] = delta1[:,1:] + (theta1[:,1:] * learning_rate) / m\n",
    "    delta2[:,1:] = delta2[:,1:] + (theta2[:,1:] * learning_rate) / m\n",
    "    \n",
    "    return delta1, delta2"
   ]
  },
  {
   "cell_type": "code",
   "execution_count": 45,
   "metadata": {},
   "outputs": [
    {
     "data": {
      "text/plain": [
       "((25, 401), (10, 26))"
      ]
     },
     "execution_count": 45,
     "metadata": {},
     "output_type": "execute_result"
    }
   ],
   "source": [
    "# compute gradient without regularization\n",
    "delta1, delta2 = gradient(theta2, a1, z2, a2, h, y, 0)\n",
    "delta1.shape, delta2.shape"
   ]
  },
  {
   "cell_type": "code",
   "execution_count": 46,
   "metadata": {},
   "outputs": [
    {
     "data": {
      "text/plain": [
       "((25, 401), (10, 26))"
      ]
     },
     "execution_count": 46,
     "metadata": {},
     "output_type": "execute_result"
    }
   ],
   "source": [
    "# compute gradient with regularization\n",
    "delta1, delta2 = gradient(theta2, a1, z2, a2, h, y, 0)\n",
    "delta1.shape, delta2.shape"
   ]
  },
  {
   "cell_type": "markdown",
   "metadata": {},
   "source": [
    "## Train the Neural Network\n",
    "\n",
    "We have al the pieces ready to train the NN:\n",
    "- Cost J\n",
    "- Gradient of J (delta1 and delta2)\n",
    "\n",
    "We will use a third party optimization algorithm to minimize J and get the final theta values."
   ]
  },
  {
   "cell_type": "code",
   "execution_count": 47,
   "metadata": {},
   "outputs": [],
   "source": [
    "# in order to use the scipy minimize function we need to provide a function that computes J and gradient, \n",
    "# and is passsed an unrolled version of the parameters theta to optimize\n",
    "def objective_function(thetas, X, y, learning_rate):\n",
    "    \n",
    "    # set variables\n",
    "    input_size = 400\n",
    "    hidden_size = 25\n",
    "    output_size = 10\n",
    "    \n",
    "    # convert the thetas array into theta matrices for each layer\n",
    "    theta1 = np.matrix(np.reshape(thetas[:hidden_size * (input_size + 1)], (hidden_size, (input_size + 1))))\n",
    "    theta2 = np.matrix(np.reshape(thetas[hidden_size * (input_size + 1):], (output_size, (hidden_size + 1))))\n",
    "\n",
    "    # forward propagation to compute h (and intermediate steps) and\n",
    "    # cost computation\n",
    "    J, a1, z2, a2, z3, h = forward_and_cost(X, y, theta1, theta2, learning_rate)\n",
    "    \n",
    "    # compute the gradient of J\n",
    "    delta1, delta2 = gradient(theta2, a1, z2, a2, h, y, learning_rate)\n",
    "\n",
    "    # convert the gradient matrices (delta1, delta2) into a single gradient array\n",
    "    grad = np.concatenate((np.ravel(delta1), np.ravel(delta2)))\n",
    "    \n",
    "    return J, grad"
   ]
  },
  {
   "cell_type": "code",
   "execution_count": 48,
   "metadata": {},
   "outputs": [
    {
     "data": {
      "text/plain": [
       "((25, 401), (10, 26), (10285,))"
      ]
     },
     "execution_count": 48,
     "metadata": {},
     "output_type": "execute_result"
    }
   ],
   "source": [
    "# randomly initialize a the theta parameters arrays\n",
    "#   - theta1[ num_L2_units_no_bias x (num_features+1) ]\n",
    "#   - theta2[ num_output_labels x num_L2_units_with_bias ]\n",
    "theta1_temp = (np.random.random(size=25*(400+1)) - 0.5) * 0.24\n",
    "theta1      = np.reshape(theta1_temp[:25*(400+1)],(25,(400+1)))\n",
    "theta2_temp = (np.random.random(size=10*(25+1)) - 0.5) * 0.24\n",
    "theta2      = np.reshape(theta2_temp[:10*(25+1)],(10,(25+1)))\n",
    "\n",
    "# convert theta1 and theta2 to a single array to feed the objective function minimization\n",
    "thetas = np.concatenate((np.ravel(theta1), np.ravel(theta2)))\n",
    "\n",
    "theta1.shape, theta2.shape, thetas.shape"
   ]
  },
  {
   "cell_type": "code",
   "execution_count": 49,
   "metadata": {},
   "outputs": [
    {
     "data": {
      "text/plain": [
       "     fun: 0.4185826145937116\n",
       "     jac: array([  4.37893008e-04,  -1.50331443e-05,   2.20235791e-05, ...,\n",
       "         2.01690104e-04,   1.87269439e-04,   9.61411916e-05])\n",
       " message: 'Max. number of function evaluations reached'\n",
       "    nfev: 250\n",
       "     nit: 19\n",
       "  status: 3\n",
       " success: False\n",
       "       x: array([  5.63315171e-01,  -1.96143138e-03,  -4.21277350e-03, ...,\n",
       "        -4.24936621e+00,   1.18849324e-01,  -1.46253865e+00])"
      ]
     },
     "execution_count": 49,
     "metadata": {},
     "output_type": "execute_result"
    }
   ],
   "source": [
    "from scipy.optimize import minimize\n",
    "\n",
    "# minimize the objective function\n",
    "# - fun = function that computes the cost and the gradient and returns ???\n",
    "# - x0 = initial guess of theta (first argument of fun)\n",
    "# - args = rest of arguments of fun\n",
    "# - method = optimization method (TNC: Truncated Newton)\n",
    "# - jac = true to indicate that we provide the gradient (Jacobian)\n",
    "# - options - maxiter = maximum number of optimization iterations\n",
    "learning_rate = 1\n",
    "fmin = minimize(fun=objective_function, \n",
    "                x0=thetas, \n",
    "                args=(X, y_onehot, learning_rate), \n",
    "                method='TNC', \n",
    "                jac=True, \n",
    "                options={'maxiter': 250, 'disp': True}\n",
    "               )\n",
    "fmin"
   ]
  },
  {
   "cell_type": "markdown",
   "metadata": {},
   "source": [
    "In some executions we have reached the maximum number of iterations before the algorithm converged (this is why it is sometimes marked as success: false). Nevertheless, a cost below 0.5 indicates us that the algorithm is working and would get lower with more iterations. **It is very important to note that running \"fmin = minimize()\" may take much time (for example, 20-40 minutes, depending on your computer)**.\n",
    "\n",
    "Let's test the returned set of thetas to make some predictions."
   ]
  },
  {
   "cell_type": "markdown",
   "metadata": {},
   "source": [
    "## Classification (prediction)"
   ]
  },
  {
   "cell_type": "code",
   "execution_count": 50,
   "metadata": {},
   "outputs": [],
   "source": [
    "# convert the thetas array into theta matrices for each layer\n",
    "input_size = 400\n",
    "hidden_size = 25\n",
    "output_size = 10\n",
    "thetas = fmin.x\n",
    "theta1 = np.matrix(np.reshape(thetas[:hidden_size * (input_size + 1)], (hidden_size, (input_size + 1))))\n",
    "theta2 = np.matrix(np.reshape(thetas[hidden_size * (input_size + 1):], (output_size, (hidden_size + 1))))"
   ]
  },
  {
   "cell_type": "code",
   "execution_count": 51,
   "metadata": {},
   "outputs": [
    {
     "data": {
      "text/plain": [
       "array([[10],\n",
       "       [10],\n",
       "       [10],\n",
       "       ..., \n",
       "       [ 9],\n",
       "       [ 9],\n",
       "       [ 9]], dtype=int32)"
      ]
     },
     "execution_count": 51,
     "metadata": {},
     "output_type": "execute_result"
    }
   ],
   "source": [
    "# Propagate forward and predict y\n",
    "a1, z2, a2, z3, h = forward_propagate(X, theta1, theta2)\n",
    "y_predictions = np.array(np.argmax(h, axis=1) + 1)\n",
    "y_predictions"
   ]
  },
  {
   "cell_type": "code",
   "execution_count": 52,
   "metadata": {},
   "outputs": [],
   "source": [
    "# Compute accuracy\n",
    "num_correct = 0\n",
    "incorrect_indices = []\n",
    "for sample in range(y_predictions.shape[0]):\n",
    "    if(y[sample].item(0) == y_predictions[sample]):\n",
    "        # print \"original: \",y[sample].item(0),\" | predicted: \", labels[np.argmax(h)],\" RIGHT\"\n",
    "        num_correct = num_correct + 1\n",
    "    else:\n",
    "        #print \"original: \",y[sample].item(0),\" | predicted: \", labels[np.argmax(h)],\" WRONG\"\n",
    "        incorrect_indices.append(sample)"
   ]
  },
  {
   "cell_type": "code",
   "execution_count": 53,
   "metadata": {},
   "outputs": [
    {
     "name": "stdout",
     "output_type": "stream",
     "text": [
      "Accuracy = 98.83999999999999%\n"
     ]
    }
   ],
   "source": [
    "# Compute accuracy of the classifier\n",
    "accuracy = float(num_correct) / (num_correct + len(incorrect_indices))\n",
    "print('Accuracy = {0}%'.format(accuracy * 100))"
   ]
  },
  {
   "cell_type": "markdown",
   "metadata": {},
   "source": [
    "98.9%! :)\n",
    "- Better than the 94.4% of the Logistic Regression classifier\n",
    "- Better than the 97.5% of the Neural Network with the provided parameters"
   ]
  },
  {
   "cell_type": "markdown",
   "metadata": {},
   "source": [
    "## Visualization of the wrong classification"
   ]
  },
  {
   "cell_type": "code",
   "execution_count": 37,
   "metadata": {},
   "outputs": [],
   "source": [
    "import scipy.misc #Used to show matrix as an image\n",
    "import random #To pick random images to display\n",
    "import matplotlib.cm as cm #Used to display images in a specific colormap\n",
    "\n",
    "def getDatumImg(row):\n",
    "    # Function that is handed a single np array with shape 1x400, creates an image object from it, and returns it\n",
    "    width, height = 20, 20\n",
    "    square = row[0:].reshape(width,height)\n",
    "    return square.T\n",
    "\n",
    "def displayData(indices_to_display = None):\n",
    "    # Function that picks 100 random rows from X, creates a 20x20 image from each, then stitches them together into a 10x10 grid of images, and shows it\n",
    "    width, height = 20, 20\n",
    "    nrows, ncols = 10, 10\n",
    "    if not indices_to_display:\n",
    "        indices_to_display = random.sample(range(X.shape[0]), nrows*ncols)\n",
    "        \n",
    "    big_picture = np.zeros((height*nrows,width*ncols))\n",
    "    \n",
    "    irow, icol = 0, 0\n",
    "    for idx in indices_to_display:\n",
    "        if icol == ncols:\n",
    "            irow += 1\n",
    "            icol  = 0\n",
    "        iimg = getDatumImg(X[idx])\n",
    "        big_picture[irow*height:irow*height+iimg.shape[0],icol*width:icol*width+iimg.shape[1]] = iimg\n",
    "        icol += 1\n",
    "    fig = plt.figure(figsize=(6,6))\n",
    "    img = scipy.misc.toimage( big_picture )\n",
    "    plt.imshow(img,cmap = cm.Greys_r)"
   ]
  },
  {
   "cell_type": "code",
   "execution_count": 38,
   "metadata": {},
   "outputs": [
    {
     "name": "stdout",
     "output_type": "stream",
     "text": [
      "[[3 8 6 8 2 4 3 9 5 4]]\n",
      "[[ 4  8  1  7 10  2  4  2  7  1]]\n",
      "[[7 5 9 1 8 7 1 9 7 9]]\n",
      "[[ 3  2  7  3  6  9 10  5 10  4]]\n"
     ]
    },
    {
     "name": "stderr",
     "output_type": "stream",
     "text": [
      "C:\\Users\\kami\\Anaconda3\\envs\\data_sciense\\lib\\site-packages\\ipykernel_launcher.py:29: DeprecationWarning: `toimage` is deprecated!\n",
      "`toimage` is deprecated in SciPy 1.0.0, and will be removed in 1.2.0.\n",
      "Use Pillow's ``Image.fromarray`` directly instead.\n"
     ]
    },
    {
     "data": {
      "image/png": "[encoded data removed]",
      "text/plain": [
       "<Figure size 432x432 with 1 Axes>"
      ]
     },
     "metadata": {},
     "output_type": "display_data"
    }
   ],
   "source": [
    "# Visualization of the wrong predictions\n",
    "displayData(incorrect_indices)\n",
    "y_predictions_np = np.array(y_predictions)\n",
    "print(y_predictions_np[incorrect_indices[0:10]].T)\n",
    "print(y_predictions_np[incorrect_indices[10:20]].T)\n",
    "print(y_predictions_np[incorrect_indices[20:30]].T)\n",
    "print(y_predictions_np[incorrect_indices[30:40]].T)"
   ]
  },
  {
   "cell_type": "markdown",
   "metadata": {},
   "source": [
    "Definetely some of the missclassified numbers were written not very clerly."
   ]
  },
  {
   "cell_type": "markdown",
   "metadata": {},
   "source": [
    "## Visualize the hidden layer"
   ]
  },
  {
   "cell_type": "code",
   "execution_count": 54,
   "metadata": {},
   "outputs": [],
   "source": [
    "def displayHiddenLayer(theta1):\n",
    "    # Function that takes slices of theta1, removes the bias unit, and reshapes it into a 20x20 image, and shows it\n",
    "    \n",
    "    #remove bias unit:\n",
    "    theta1 = theta1[:,1:]\n",
    "    assert theta1.shape == (25,400)\n",
    "    \n",
    "    width, height = 20, 20\n",
    "    nrows, ncols = 5, 5\n",
    "        \n",
    "    big_picture = np.zeros((height*nrows,width*ncols))\n",
    "    \n",
    "    irow, icol = 0, 0\n",
    "    for row in theta1:\n",
    "        if icol == ncols:\n",
    "            irow += 1\n",
    "            icol  = 0\n",
    "        iimg = getDatumImg(row)\n",
    "        big_picture[irow*height:irow*height+iimg.shape[0],icol*width:icol*width+iimg.shape[1]] = iimg\n",
    "        icol += 1\n",
    "    fig = plt.figure(figsize=(6,6))\n",
    "    img = scipy.misc.toimage( big_picture )\n",
    "    plt.imshow(img,cmap = cm.seismic)"
   ]
  },
  {
   "cell_type": "code",
   "execution_count": 55,
   "metadata": {},
   "outputs": [
    {
     "ename": "AttributeError",
     "evalue": "module 'scipy.misc' has no attribute 'toimage'",
     "output_type": "error",
     "traceback": [
      "\u001b[1;31m---------------------------------------------------------------------------\u001b[0m",
      "\u001b[1;31mAttributeError\u001b[0m                            Traceback (most recent call last)",
      "\u001b[1;32m<ipython-input-55-5fd3c7b53c4f>\u001b[0m in \u001b[0;36m<module>\u001b[1;34m()\u001b[0m\n\u001b[1;32m----> 1\u001b[1;33m \u001b[0mdisplayHiddenLayer\u001b[0m\u001b[1;33m(\u001b[0m\u001b[0mtheta1\u001b[0m\u001b[1;33m)\u001b[0m\u001b[1;33m\u001b[0m\u001b[0m\n\u001b[0m",
      "\u001b[1;32m<ipython-input-54-803653d69bdd>\u001b[0m in \u001b[0;36mdisplayHiddenLayer\u001b[1;34m(theta1)\u001b[0m\n\u001b[0;32m     20\u001b[0m         \u001b[0micol\u001b[0m \u001b[1;33m+=\u001b[0m \u001b[1;36m1\u001b[0m\u001b[1;33m\u001b[0m\u001b[0m\n\u001b[0;32m     21\u001b[0m     \u001b[0mfig\u001b[0m \u001b[1;33m=\u001b[0m \u001b[0mplt\u001b[0m\u001b[1;33m.\u001b[0m\u001b[0mfigure\u001b[0m\u001b[1;33m(\u001b[0m\u001b[0mfigsize\u001b[0m\u001b[1;33m=\u001b[0m\u001b[1;33m(\u001b[0m\u001b[1;36m6\u001b[0m\u001b[1;33m,\u001b[0m\u001b[1;36m6\u001b[0m\u001b[1;33m)\u001b[0m\u001b[1;33m)\u001b[0m\u001b[1;33m\u001b[0m\u001b[0m\n\u001b[1;32m---> 22\u001b[1;33m     \u001b[0mimg\u001b[0m \u001b[1;33m=\u001b[0m \u001b[0mscipy\u001b[0m\u001b[1;33m.\u001b[0m\u001b[0mmisc\u001b[0m\u001b[1;33m.\u001b[0m\u001b[0mtoimage\u001b[0m\u001b[1;33m(\u001b[0m \u001b[0mbig_picture\u001b[0m \u001b[1;33m)\u001b[0m\u001b[1;33m\u001b[0m\u001b[0m\n\u001b[0m\u001b[0;32m     23\u001b[0m     \u001b[0mplt\u001b[0m\u001b[1;33m.\u001b[0m\u001b[0mimshow\u001b[0m\u001b[1;33m(\u001b[0m\u001b[0mimg\u001b[0m\u001b[1;33m,\u001b[0m\u001b[0mcmap\u001b[0m \u001b[1;33m=\u001b[0m \u001b[0mcm\u001b[0m\u001b[1;33m.\u001b[0m\u001b[0mseismic\u001b[0m\u001b[1;33m)\u001b[0m\u001b[1;33m\u001b[0m\u001b[0m\n",
      "\u001b[1;31mAttributeError\u001b[0m: module 'scipy.misc' has no attribute 'toimage'"
     ]
    },
    {
     "data": {
      "text/plain": [
       "<Figure size 432x432 with 0 Axes>"
      ]
     },
     "metadata": {},
     "output_type": "display_data"
    }
   ],
   "source": [
    "displayHiddenLayer(theta1)"
   ]
  },
  {
   "cell_type": "markdown",
   "metadata": {},
   "source": [
    "Here we are actually visualizing the structure of theta1. Hence, what we see in the image is what theta1 interprets from the input samples and delivers to the hidden unit. \n",
    "\n",
    "Each one of the 25 rounded shapes represents one of the 25 hidden units.\n",
    "While it might seem just a bunch of blurred images, they really tell what pattern (strokes) each unit is detecting. "
   ]
  }
 ],
 "metadata": {
  "kernelspec": {
   "display_name": "Python 3",
   "language": "python",
   "name": "python3"
  },
  "language_info": {
   "codemirror_mode": {
    "name": "ipython",
    "version": 3
   },
   "file_extension": ".py",
   "mimetype": "text/x-python",
   "name": "python",
   "nbconvert_exporter": "python",
   "pygments_lexer": "ipython3",
   "version": "3.5.2"
  }
 },
 "nbformat": 4,
 "nbformat_minor": 2
}
